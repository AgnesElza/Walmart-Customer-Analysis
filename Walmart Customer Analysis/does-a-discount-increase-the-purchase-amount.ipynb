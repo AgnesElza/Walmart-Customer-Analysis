{
 "cells": [
  {
   "cell_type": "markdown",
   "id": "31a7038c",
   "metadata": {
    "papermill": {
     "duration": 0.00348,
     "end_time": "2025-03-12T17:41:13.805043",
     "exception": false,
     "start_time": "2025-03-12T17:41:13.801563",
     "status": "completed"
    },
    "tags": []
   },
   "source": [
    "# 🛒 Hypothesis Testing: Does Applying a Discount Increase the Purchase Amount?\n",
    "### 📊 Walmart Customer Transactions\n",
    "\n",
    "**Objective:**  \n",
    "We are testing whether discounts lead to higher spending.  \n",
    "Using an **independent t-test**, we will compare the average purchase amount for transactions **with** and **without discounts**.\n",
    "\n",
    "📌 **Null Hypothesis (\\(H_0\\))**: There is no difference in average purchase amounts.  \n",
    "📌 **Alternative Hypothesis (\\(H_1\\))**: Transactions with discounts have a higher average purchase amount.\n",
    "\n",
    "We use an Independent t-Test (Two-Sample t-Test) because:\n",
    "\n",
    "The two groups (discounted vs. non-discounted transactions) are independent (i.e., one purchase being discounted does not affect another purchase being non-discounted).\n",
    "We are testing whether the mean purchase amount in one group is greater than the other."
   ]
  },
  {
   "cell_type": "code",
   "execution_count": 1,
   "id": "929473bb",
   "metadata": {
    "execution": {
     "iopub.execute_input": "2025-03-12T17:41:13.812672Z",
     "iopub.status.busy": "2025-03-12T17:41:13.812294Z",
     "iopub.status.idle": "2025-03-12T17:41:16.611484Z",
     "shell.execute_reply": "2025-03-12T17:41:16.610285Z"
    },
    "papermill": {
     "duration": 2.804792,
     "end_time": "2025-03-12T17:41:16.613191",
     "exception": false,
     "start_time": "2025-03-12T17:41:13.808399",
     "status": "completed"
    },
    "tags": []
   },
   "outputs": [
    {
     "data": {
      "text/html": [
       "<div>\n",
       "<style scoped>\n",
       "    .dataframe tbody tr th:only-of-type {\n",
       "        vertical-align: middle;\n",
       "    }\n",
       "\n",
       "    .dataframe tbody tr th {\n",
       "        vertical-align: top;\n",
       "    }\n",
       "\n",
       "    .dataframe thead th {\n",
       "        text-align: right;\n",
       "    }\n",
       "</style>\n",
       "<table border=\"1\" class=\"dataframe\">\n",
       "  <thead>\n",
       "    <tr style=\"text-align: right;\">\n",
       "      <th></th>\n",
       "      <th>Customer_ID</th>\n",
       "      <th>Age</th>\n",
       "      <th>Gender</th>\n",
       "      <th>City</th>\n",
       "      <th>Category</th>\n",
       "      <th>Product_Name</th>\n",
       "      <th>Purchase_Date</th>\n",
       "      <th>Purchase_Amount</th>\n",
       "      <th>Payment_Method</th>\n",
       "      <th>Discount_Applied</th>\n",
       "      <th>Rating</th>\n",
       "      <th>Repeat_Customer</th>\n",
       "    </tr>\n",
       "  </thead>\n",
       "  <tbody>\n",
       "    <tr>\n",
       "      <th>0</th>\n",
       "      <td>84607c1f-910c-44d5-b89f-e1ee06dd34c0</td>\n",
       "      <td>49</td>\n",
       "      <td>Female</td>\n",
       "      <td>New Cynthia</td>\n",
       "      <td>Electronics</td>\n",
       "      <td>Smartphone</td>\n",
       "      <td>2024-08-30</td>\n",
       "      <td>253.26</td>\n",
       "      <td>Cash on Delivery</td>\n",
       "      <td>No</td>\n",
       "      <td>1</td>\n",
       "      <td>Yes</td>\n",
       "    </tr>\n",
       "    <tr>\n",
       "      <th>1</th>\n",
       "      <td>f2a81712-a73e-4424-8b39-4c615a0bd4ea</td>\n",
       "      <td>36</td>\n",
       "      <td>Other</td>\n",
       "      <td>Cruzport</td>\n",
       "      <td>Clothing</td>\n",
       "      <td>T-Shirt</td>\n",
       "      <td>2024-12-21</td>\n",
       "      <td>73.19</td>\n",
       "      <td>Debit Card</td>\n",
       "      <td>Yes</td>\n",
       "      <td>1</td>\n",
       "      <td>No</td>\n",
       "    </tr>\n",
       "    <tr>\n",
       "      <th>2</th>\n",
       "      <td>da9be287-8b0e-4688-bccd-1a2cdd7567c6</td>\n",
       "      <td>52</td>\n",
       "      <td>Male</td>\n",
       "      <td>Jeffreytown</td>\n",
       "      <td>Beauty</td>\n",
       "      <td>Perfume</td>\n",
       "      <td>2024-12-26</td>\n",
       "      <td>125.62</td>\n",
       "      <td>Credit Card</td>\n",
       "      <td>Yes</td>\n",
       "      <td>1</td>\n",
       "      <td>No</td>\n",
       "    </tr>\n",
       "    <tr>\n",
       "      <th>3</th>\n",
       "      <td>50ec6932-3ac7-492f-9e55-4b148212f302</td>\n",
       "      <td>47</td>\n",
       "      <td>Female</td>\n",
       "      <td>Jenniferburgh</td>\n",
       "      <td>Electronics</td>\n",
       "      <td>Smartwatch</td>\n",
       "      <td>2024-11-04</td>\n",
       "      <td>450.32</td>\n",
       "      <td>Credit Card</td>\n",
       "      <td>No</td>\n",
       "      <td>2</td>\n",
       "      <td>Yes</td>\n",
       "    </tr>\n",
       "    <tr>\n",
       "      <th>4</th>\n",
       "      <td>8fdc3098-fc75-4b0f-983c-d8d8168c6362</td>\n",
       "      <td>43</td>\n",
       "      <td>Other</td>\n",
       "      <td>Kingshire</td>\n",
       "      <td>Electronics</td>\n",
       "      <td>Smartphone</td>\n",
       "      <td>2024-10-07</td>\n",
       "      <td>369.28</td>\n",
       "      <td>Credit Card</td>\n",
       "      <td>Yes</td>\n",
       "      <td>2</td>\n",
       "      <td>Yes</td>\n",
       "    </tr>\n",
       "  </tbody>\n",
       "</table>\n",
       "</div>"
      ],
      "text/plain": [
       "                            Customer_ID  Age  Gender           City  \\\n",
       "0  84607c1f-910c-44d5-b89f-e1ee06dd34c0   49  Female    New Cynthia   \n",
       "1  f2a81712-a73e-4424-8b39-4c615a0bd4ea   36   Other       Cruzport   \n",
       "2  da9be287-8b0e-4688-bccd-1a2cdd7567c6   52    Male    Jeffreytown   \n",
       "3  50ec6932-3ac7-492f-9e55-4b148212f302   47  Female  Jenniferburgh   \n",
       "4  8fdc3098-fc75-4b0f-983c-d8d8168c6362   43   Other      Kingshire   \n",
       "\n",
       "      Category Product_Name Purchase_Date  Purchase_Amount    Payment_Method  \\\n",
       "0  Electronics   Smartphone    2024-08-30           253.26  Cash on Delivery   \n",
       "1     Clothing      T-Shirt    2024-12-21            73.19        Debit Card   \n",
       "2       Beauty      Perfume    2024-12-26           125.62       Credit Card   \n",
       "3  Electronics   Smartwatch    2024-11-04           450.32       Credit Card   \n",
       "4  Electronics   Smartphone    2024-10-07           369.28       Credit Card   \n",
       "\n",
       "  Discount_Applied  Rating Repeat_Customer  \n",
       "0               No       1             Yes  \n",
       "1              Yes       1              No  \n",
       "2              Yes       1              No  \n",
       "3               No       2             Yes  \n",
       "4              Yes       2             Yes  "
      ]
     },
     "execution_count": 1,
     "metadata": {},
     "output_type": "execute_result"
    }
   ],
   "source": [
    "# Import necessary libraries\n",
    "import pandas as pd\n",
    "import numpy as np\n",
    "import matplotlib.pyplot as plt\n",
    "import seaborn as sns\n",
    "from scipy.stats import ttest_ind\n",
    "\n",
    "# Load dataset\n",
    "df = pd.read_csv(\"/kaggle/input/walmart-customer-purchase-behavior-dataset/Walmart_customer_purchases.csv\")  # Adjust the path for Kaggle\n",
    "df.head()  # Display first few rows"
   ]
  },
  {
   "cell_type": "code",
   "execution_count": 2,
   "id": "8d8e4b27",
   "metadata": {
    "execution": {
     "iopub.execute_input": "2025-03-12T17:41:16.622398Z",
     "iopub.status.busy": "2025-03-12T17:41:16.622053Z",
     "iopub.status.idle": "2025-03-12T17:41:16.674087Z",
     "shell.execute_reply": "2025-03-12T17:41:16.672836Z"
    },
    "papermill": {
     "duration": 0.058023,
     "end_time": "2025-03-12T17:41:16.675767",
     "exception": false,
     "start_time": "2025-03-12T17:41:16.617744",
     "status": "completed"
    },
    "tags": []
   },
   "outputs": [
    {
     "name": "stdout",
     "output_type": "stream",
     "text": [
      "<class 'pandas.core.frame.DataFrame'>\n",
      "RangeIndex: 50000 entries, 0 to 49999\n",
      "Data columns (total 12 columns):\n",
      " #   Column            Non-Null Count  Dtype  \n",
      "---  ------            --------------  -----  \n",
      " 0   Customer_ID       50000 non-null  object \n",
      " 1   Age               50000 non-null  int64  \n",
      " 2   Gender            50000 non-null  object \n",
      " 3   City              50000 non-null  object \n",
      " 4   Category          50000 non-null  object \n",
      " 5   Product_Name      50000 non-null  object \n",
      " 6   Purchase_Date     50000 non-null  object \n",
      " 7   Purchase_Amount   50000 non-null  float64\n",
      " 8   Payment_Method    50000 non-null  object \n",
      " 9   Discount_Applied  50000 non-null  object \n",
      " 10  Rating            50000 non-null  int64  \n",
      " 11  Repeat_Customer   50000 non-null  object \n",
      "dtypes: float64(1), int64(2), object(9)\n",
      "memory usage: 4.6+ MB\n"
     ]
    }
   ],
   "source": [
    "df.info()"
   ]
  },
  {
   "cell_type": "markdown",
   "id": "17ee38df",
   "metadata": {
    "papermill": {
     "duration": 0.003431,
     "end_time": "2025-03-12T17:41:16.682948",
     "exception": false,
     "start_time": "2025-03-12T17:41:16.679517",
     "status": "completed"
    },
    "tags": []
   },
   "source": [
    "## 🔍 Data Preprocessing\n",
    "Before performing hypothesis testing, we check for:\n",
    "- Missing values\n",
    "- Data types\n",
    "- Outliers\n",
    "- Any necessary transformations"
   ]
  },
  {
   "cell_type": "code",
   "execution_count": 3,
   "id": "15266ef1",
   "metadata": {
    "execution": {
     "iopub.execute_input": "2025-03-12T17:41:16.692359Z",
     "iopub.status.busy": "2025-03-12T17:41:16.692016Z",
     "iopub.status.idle": "2025-03-12T17:41:16.769309Z",
     "shell.execute_reply": "2025-03-12T17:41:16.767986Z"
    },
    "papermill": {
     "duration": 0.084442,
     "end_time": "2025-03-12T17:41:16.770986",
     "exception": false,
     "start_time": "2025-03-12T17:41:16.686544",
     "status": "completed"
    },
    "tags": []
   },
   "outputs": [
    {
     "name": "stdout",
     "output_type": "stream",
     "text": [
      "<class 'pandas.core.frame.DataFrame'>\n",
      "RangeIndex: 50000 entries, 0 to 49999\n",
      "Data columns (total 12 columns):\n",
      " #   Column            Non-Null Count  Dtype  \n",
      "---  ------            --------------  -----  \n",
      " 0   Customer_ID       50000 non-null  object \n",
      " 1   Age               50000 non-null  int64  \n",
      " 2   Gender            50000 non-null  object \n",
      " 3   City              50000 non-null  object \n",
      " 4   Category          50000 non-null  object \n",
      " 5   Product_Name      50000 non-null  object \n",
      " 6   Purchase_Date     50000 non-null  object \n",
      " 7   Purchase_Amount   50000 non-null  float64\n",
      " 8   Payment_Method    50000 non-null  object \n",
      " 9   Discount_Applied  50000 non-null  object \n",
      " 10  Rating            50000 non-null  int64  \n",
      " 11  Repeat_Customer   50000 non-null  object \n",
      "dtypes: float64(1), int64(2), object(9)\n",
      "memory usage: 4.6+ MB\n"
     ]
    }
   ],
   "source": [
    "# Check for missing values\n",
    "df.info()  # Summary of dataset\n",
    "df.isnull().sum()  # Count missing values per column\n",
    "\n",
    "# Convert categorical columns if necessary\n",
    "df['Discount_Applied'] = df['Discount_Applied'].map({'Yes': 1, 'No': 0})\n",
    "\n",
    "# Convert Purchase_Amount to numeric\n",
    "df['Purchase_Amount'] = pd.to_numeric(df['Purchase_Amount'], errors='coerce')\n",
    "\n",
    "# Remove missing values\n",
    "df = df.dropna(subset=['Purchase_Amount'])"
   ]
  },
  {
   "cell_type": "code",
   "execution_count": 4,
   "id": "20040b34",
   "metadata": {
    "execution": {
     "iopub.execute_input": "2025-03-12T17:41:16.779485Z",
     "iopub.status.busy": "2025-03-12T17:41:16.779092Z",
     "iopub.status.idle": "2025-03-12T17:41:16.786324Z",
     "shell.execute_reply": "2025-03-12T17:41:16.785236Z"
    },
    "papermill": {
     "duration": 0.013355,
     "end_time": "2025-03-12T17:41:16.787957",
     "exception": false,
     "start_time": "2025-03-12T17:41:16.774602",
     "status": "completed"
    },
    "tags": []
   },
   "outputs": [
    {
     "name": "stdout",
     "output_type": "stream",
     "text": [
      "[0 1]\n"
     ]
    }
   ],
   "source": [
    "# Checking if the mapping worked.\n",
    "print(df['Discount_Applied'].unique())  # Should output [0, 1]"
   ]
  },
  {
   "cell_type": "markdown",
   "id": "293ff798",
   "metadata": {
    "papermill": {
     "duration": 0.003284,
     "end_time": "2025-03-12T17:41:16.794890",
     "exception": false,
     "start_time": "2025-03-12T17:41:16.791606",
     "status": "completed"
    },
    "tags": []
   },
   "source": [
    "## 📊 Exploratory Data Analysis (EDA)\n",
    "Before performing the hypothesis test, let's visualize:\n",
    "- Distribution of Purchase Amounts\n",
    "- Effect of Discount on Purchase Amount\n"
   ]
  },
  {
   "cell_type": "code",
   "execution_count": 5,
   "id": "c6a52ab7",
   "metadata": {
    "execution": {
     "iopub.execute_input": "2025-03-12T17:41:16.803576Z",
     "iopub.status.busy": "2025-03-12T17:41:16.803160Z",
     "iopub.status.idle": "2025-03-12T17:41:17.098884Z",
     "shell.execute_reply": "2025-03-12T17:41:17.097825Z"
    },
    "papermill": {
     "duration": 0.302309,
     "end_time": "2025-03-12T17:41:17.100781",
     "exception": false,
     "start_time": "2025-03-12T17:41:16.798472",
     "status": "completed"
    },
    "tags": []
   },
   "outputs": [
    {
     "data": {
      "image/png": "[encoded data removed]",
      "text/plain": [
       "<Figure size 800x500 with 1 Axes>"
      ]
     },
     "metadata": {},
     "output_type": "display_data"
    },
    {
     "data": {
      "text/html": [
       "<div>\n",
       "<style scoped>\n",
       "    .dataframe tbody tr th:only-of-type {\n",
       "        vertical-align: middle;\n",
       "    }\n",
       "\n",
       "    .dataframe tbody tr th {\n",
       "        vertical-align: top;\n",
       "    }\n",
       "\n",
       "    .dataframe thead th {\n",
       "        text-align: right;\n",
       "    }\n",
       "</style>\n",
       "<table border=\"1\" class=\"dataframe\">\n",
       "  <thead>\n",
       "    <tr style=\"text-align: right;\">\n",
       "      <th></th>\n",
       "      <th>count</th>\n",
       "      <th>mean</th>\n",
       "      <th>std</th>\n",
       "      <th>min</th>\n",
       "      <th>25%</th>\n",
       "      <th>50%</th>\n",
       "      <th>75%</th>\n",
       "      <th>max</th>\n",
       "    </tr>\n",
       "    <tr>\n",
       "      <th>Discount_Applied</th>\n",
       "      <th></th>\n",
       "      <th></th>\n",
       "      <th></th>\n",
       "      <th></th>\n",
       "      <th></th>\n",
       "      <th></th>\n",
       "      <th></th>\n",
       "      <th></th>\n",
       "    </tr>\n",
       "  </thead>\n",
       "  <tbody>\n",
       "    <tr>\n",
       "      <th>0</th>\n",
       "      <td>25018.0</td>\n",
       "      <td>255.489013</td>\n",
       "      <td>141.554644</td>\n",
       "      <td>10.01</td>\n",
       "      <td>133.4125</td>\n",
       "      <td>255.005</td>\n",
       "      <td>378.3525</td>\n",
       "      <td>499.99</td>\n",
       "    </tr>\n",
       "    <tr>\n",
       "      <th>1</th>\n",
       "      <td>24982.0</td>\n",
       "      <td>255.575508</td>\n",
       "      <td>141.597033</td>\n",
       "      <td>10.08</td>\n",
       "      <td>132.6400</td>\n",
       "      <td>255.075</td>\n",
       "      <td>379.2975</td>\n",
       "      <td>499.99</td>\n",
       "    </tr>\n",
       "  </tbody>\n",
       "</table>\n",
       "</div>"
      ],
      "text/plain": [
       "                    count        mean         std    min       25%      50%  \\\n",
       "Discount_Applied                                                              \n",
       "0                 25018.0  255.489013  141.554644  10.01  133.4125  255.005   \n",
       "1                 24982.0  255.575508  141.597033  10.08  132.6400  255.075   \n",
       "\n",
       "                       75%     max  \n",
       "Discount_Applied                    \n",
       "0                 378.3525  499.99  \n",
       "1                 379.2975  499.99  "
      ]
     },
     "execution_count": 5,
     "metadata": {},
     "output_type": "execute_result"
    }
   ],
   "source": [
    "# Boxplot of Purchase Amounts with and without Discount\n",
    "plt.figure(figsize=(8,5))\n",
    "sns.boxplot(x=df['Discount_Applied'], y=df['Purchase_Amount'])\n",
    "plt.xticks([0, 1], ['No Discount', 'Discount Applied'])\n",
    "plt.title(\"Comparison of Purchase Amounts with and without Discounts\")\n",
    "plt.show()\n",
    "\n",
    "# Descriptive statistics\n",
    "df.groupby('Discount_Applied')['Purchase_Amount'].describe()"
   ]
  },
  {
   "cell_type": "markdown",
   "id": "14f23b36",
   "metadata": {
    "papermill": {
     "duration": 0.003953,
     "end_time": "2025-03-12T17:41:17.109267",
     "exception": false,
     "start_time": "2025-03-12T17:41:17.105314",
     "status": "completed"
    },
    "tags": []
   },
   "source": [
    "## 🧪 Hypothesis Testing"
   ]
  },
  {
   "cell_type": "markdown",
   "id": "5fde44be",
   "metadata": {
    "papermill": {
     "duration": 0.003833,
     "end_time": "2025-03-12T17:41:17.117204",
     "exception": false,
     "start_time": "2025-03-12T17:41:17.113371",
     "status": "completed"
    },
    "tags": []
   },
   "source": [
    "### **Why Choose \\(α = 0.05\\)?**\n",
    "In hypothesis testing, **\\(α) (alpha)** represents the **significance level**, which is the probability of making a **Type 1 error** (rejecting \\(H_0\\) when it is actually true).\n",
    "\n",
    "The **default choice in many fields** (including business, social sciences, and healthcare) is **\\(α = 0.05\\)**, which means:\n",
    "\n",
    "- We are willing to accept a **5% chance of incorrectly rejecting the null hypothesis** (\\(H_0\\)).\n",
    "- In other words, there is a **95% confidence level** that our decision is correct.\n"
   ]
  },
  {
   "cell_type": "markdown",
   "id": "0d6d3692",
   "metadata": {
    "papermill": {
     "duration": 0.003886,
     "end_time": "2025-03-12T17:41:17.125175",
     "exception": false,
     "start_time": "2025-03-12T17:41:17.121289",
     "status": "completed"
    },
    "tags": []
   },
   "source": [
    "### 📌 When Should We Use a Different Alpha?\n",
    "\n",
    "#### **🔹 More Strict (Lower Alpha: \\(α = 0.01\\))**\n",
    "- Used in **medical trials, fraud detection, or high-risk decision-making**, where a **false positive (Type 1 error) is costly**.\n",
    "- **Example:** Testing a new drug—incorrectly claiming it works could be dangerous.\n",
    "\n",
    "#### **🔹 More Lenient (Higher Alpha: \\(α = 0.10\\))**\n",
    "- Used in **exploratory research or early-stage testing**, where **Type 2 errors (missing a real effect) are more concerning**.\n",
    "- **Example:** A/B testing in marketing—if a slight increase in sales is observed, it might be worth considering.\n"
   ]
  },
  {
   "cell_type": "code",
   "execution_count": 6,
   "id": "57de498b",
   "metadata": {
    "execution": {
     "iopub.execute_input": "2025-03-12T17:41:17.134693Z",
     "iopub.status.busy": "2025-03-12T17:41:17.134323Z",
     "iopub.status.idle": "2025-03-12T17:41:17.161826Z",
     "shell.execute_reply": "2025-03-12T17:41:17.160685Z"
    },
    "papermill": {
     "duration": 0.034161,
     "end_time": "2025-03-12T17:41:17.163412",
     "exception": false,
     "start_time": "2025-03-12T17:41:17.129251",
     "status": "completed"
    },
    "tags": []
   },
   "outputs": [
    {
     "name": "stdout",
     "output_type": "stream",
     "text": [
      "T-statistic: 0.0683\n",
      "P-value: 0.4728\n",
      "📌 Conclusion: Fail to reject the null hypothesis (H0). No significant effect of discounts.\n"
     ]
    }
   ],
   "source": [
    "# Split data into two groups\n",
    "discounted = df[df['Discount_Applied'] == 1]['Purchase_Amount']\n",
    "non_discounted = df[df['Discount_Applied'] == 0]['Purchase_Amount']\n",
    "\n",
    "# Perform independent t-test\n",
    "t_stat, p_value = ttest_ind(discounted, non_discounted, alternative='greater')\n",
    "\n",
    "# Display results\n",
    "print(f\"T-statistic: {t_stat:.4f}\")\n",
    "print(f\"P-value: {p_value:.4f}\")\n",
    "\n",
    "# Check significance level\n",
    "alpha = 0.05\n",
    "if p_value < alpha:\n",
    "    print(\"📌 Conclusion: Reject the null hypothesis (H0). Discounts increase purchase amount.\")\n",
    "else:\n",
    "    print(\"📌 Conclusion: Fail to reject the null hypothesis (H0). No significant effect of discounts.\")\n"
   ]
  },
  {
   "cell_type": "markdown",
   "id": "fe3fdd53",
   "metadata": {
    "papermill": {
     "duration": 0.004217,
     "end_time": "2025-03-12T17:41:17.172276",
     "exception": false,
     "start_time": "2025-03-12T17:41:17.168059",
     "status": "completed"
    },
    "tags": []
   },
   "source": [
    "### **📌 Final Conclusion**\n",
    "Based on the independent t-test results:  \n",
    "- **T-statistic:** 0.0683  \n",
    "- **P-value:** 0.4728  \n",
    "\n",
    "Since the **p-value (0.4728) is much greater than** the significance level **\\(α = 0.05\\)**, we **fail to reject the null hypothesis (\\(H_0\\))**.  \n",
    "\n",
    "### **🚀 Interpretation:**  \n",
    "There is **no statistically significant difference** in purchase amounts between transactions **with and without discounts**. This suggests that applying discounts **does not significantly increase the average purchase amount**.\n",
    "\n",
    "### **💡 Business Implications:**  \n",
    "- Offering discounts may **not be an effective strategy** for increasing spending per transaction.  \n",
    "- Instead, Walmart could **analyze other factors** that drive higher purchases, such as bundling products, targeted promotions, or loyalty rewards.  \n",
    "- Future analysis could explore **category-specific trends**—perhaps discounts work better for certain product types.  \n"
   ]
  }
 ],
 "metadata": {
  "kaggle": {
   "accelerator": "none",
   "dataSources": [
    {
     "datasetId": 6643768,
     "sourceId": 10718429,
     "sourceType": "datasetVersion"
    }
   ],
   "dockerImageVersionId": 30918,
   "isGpuEnabled": false,
   "isInternetEnabled": true,
   "language": "python",
   "sourceType": "notebook"
  },
  "kernelspec": {
   "display_name": "Python 3",
   "language": "python",
   "name": "python3"
  },
  "language_info": {
   "codemirror_mode": {
    "name": "ipython",
    "version": 3
   },
   "file_extension": ".py",
   "mimetype": "text/x-python",
   "name": "python",
   "nbconvert_exporter": "python",
   "pygments_lexer": "ipython3",
   "version": "3.10.12"
  },
  "papermill": {
   "default_parameters": {},
   "duration": 6.795513,
   "end_time": "2025-03-12T17:41:17.897475",
   "environment_variables": {},
   "exception": null,
   "input_path": "__notebook__.ipynb",
   "output_path": "__notebook__.ipynb",
   "parameters": {},
   "start_time": "2025-03-12T17:41:11.101962",
   "version": "2.6.0"
  }
 },
 "nbformat": 4,
 "nbformat_minor": 5
}
